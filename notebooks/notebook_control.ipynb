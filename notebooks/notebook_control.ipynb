{
 "cells": [
  {
   "cell_type": "markdown",
   "id": "211dc8e0",
   "metadata": {},
   "source": [
    "Restarting python kernel relinquish the the serial control. Need to restart scanbox (in matlab?) to regain control over pyserial."
   ]
  },
  {
   "cell_type": "code",
   "execution_count": 2,
   "id": "d8bbcabb",
   "metadata": {},
   "outputs": [
    {
     "data": {
      "text/plain": [
       "{'cameras': {'one_photon': {'binning': 4,\n",
       "   'cam_id': 0,\n",
       "   'driver': 'basler',\n",
       "   'exposure': 100}},\n",
       " 'data_path': 'C:\\\\Users\\\\Burgess Lab\\\\2pdata',\n",
       " 'motors': {'knobby_port': 'COM13',\n",
       "  'knobby_version': 9,\n",
       "  'motors_baudrate': 57600,\n",
       "  'motors_port': 'COM5'},\n",
       " 'network_cmd_server': 7001,\n",
       " 'neurolabware_box': {'firmware': '4.5',\n",
       "  'master_port': None,\n",
       "  'slave_port': None},\n",
       " 'twophoton': {'acquisition_nbuffers': 16,\n",
       "  'acquisition_trigger_level': 160,\n",
       "  'acquisition_trigger_slope': 'positive',\n",
       "  'bidi_shift': 0,\n",
       "  'bishift': [-71, -54, -14, -9, -21, -29, -38, -42, -48, -54, -59, -65, -70],\n",
       "  'deadband': [0, 0],\n",
       "  'dv_galvo': 64,\n",
       "  'gain_galvo': [1.0,\n",
       "   1.1892,\n",
       "   1.4142,\n",
       "   1.6818,\n",
       "   2.0,\n",
       "   2.3784,\n",
       "   2.8284,\n",
       "   3.3636,\n",
       "   4.0,\n",
       "   4.7568,\n",
       "   5.6569,\n",
       "   6.7272,\n",
       "   8.0],\n",
       "  'gain_resonant_multiplier': 1.0,\n",
       "  'hsync_sign': 0,\n",
       "  'laser_frequency': 80000000,\n",
       "  'margin': 20,\n",
       "  'objectives': ['Nikon 16x_0.8w_WD3.0'],\n",
       "  'pmt_acquisition_range': [-1, 1],\n",
       "  'resonant_frequency': 8000,\n",
       "  'sync_pulse_width': 16,\n",
       "  'triggered_acquisition': False,\n",
       "  'unidirectional': True,\n",
       "  'warmup_delay': 50},\n",
       " 'user': 'default',\n",
       " 'config_path': 'C:\\\\Users\\\\Burgess Lab\\\\codes\\\\scanbox\\\\default'}"
      ]
     },
     "execution_count": 2,
     "metadata": {},
     "output_type": "execute_result"
    }
   ],
   "source": [
    "from scanbox.nlw_controller import *\n",
    "from scanbox.utils import *\n",
    "get_config()"
   ]
  },
  {
   "cell_type": "code",
   "execution_count": 1,
   "id": "e9135bd3",
   "metadata": {},
   "outputs": [
    {
     "name": "stdout",
     "output_type": "stream",
     "text": [
      "new code\n"
     ]
    }
   ],
   "source": [
    "from scanbox.nlw_controller import *\n",
    "from scanbox.utils import *\n",
    "config = get_config()\n",
    "\n",
    "box = ScanboxController('COM4',preferences = config['twophoton'])"
   ]
  },
  {
   "cell_type": "code",
   "execution_count": 9,
   "id": "af70160d",
   "metadata": {},
   "outputs": [
    {
     "name": "stdout",
     "output_type": "stream",
     "text": [
      "[Scanbox] Master version 1.14.0\n"
     ]
    },
    {
     "data": {
      "text/plain": [
       "(1, 14, 0)"
      ]
     },
     "execution_count": 9,
     "metadata": {},
     "output_type": "execute_result"
    }
   ],
   "source": [
    "box.get_version()"
   ]
  },
  {
   "cell_type": "code",
   "execution_count": 8,
   "id": "012934df",
   "metadata": {},
   "outputs": [
    {
     "name": "stdout",
     "output_type": "stream",
     "text": [
      "[Scanbox] Stopped scanning.\n"
     ]
    }
   ],
   "source": [
    "box.abort()"
   ]
  },
  {
   "cell_type": "code",
   "execution_count": null,
   "id": "c3004c82",
   "metadata": {},
   "outputs": [],
   "source": [
    "box.abort()\n",
    "box.set_mirror_position(0)"
   ]
  },
  {
   "cell_type": "code",
   "execution_count": null,
   "id": "cd5046b3",
   "metadata": {},
   "outputs": [],
   "source": [
    "box.exit_flag = True\n",
    "box.usb.close()"
   ]
  },
  {
   "cell_type": "markdown",
   "id": "1e9ec21a",
   "metadata": {},
   "source": [
    "Configuring the API? Has something to do with the microscope?"
   ]
  },
  {
   "cell_type": "code",
   "execution_count": 15,
   "id": "55153069",
   "metadata": {},
   "outputs": [
    {
     "data": {
      "text/plain": [
       "'c:\\\\Users\\\\Burgess Lab\\\\GitHub\\\\scanbox'"
      ]
     },
     "execution_count": 15,
     "metadata": {},
     "output_type": "execute_result"
    }
   ],
   "source": [
    "import os\n",
    "# os.chdir(\"../\")\n",
    "os.getcwd()"
   ]
  },
  {
   "cell_type": "code",
   "execution_count": 16,
   "id": "2a6815b9",
   "metadata": {},
   "outputs": [],
   "source": [
    "import atsapi as ats\n",
    "board = ats.Board(systemId=1, boardId=1)\n",
    "# Configure the capture clock (trigger external/laser)\n",
    "board.setCaptureClock(source = ats.FAST_EXTERNAL_CLOCK, #2\n",
    "                      rate = ats.SAMPLE_RATE_USER_DEF,  #0x40, 64, this is base-16 \n",
    "                      edge = ats.CLOCK_EDGE_RISING,  # 0 \n",
    "                      decimation = 0)                        "
   ]
  },
  {
   "cell_type": "code",
   "execution_count": null,
   "id": "9c27046d",
   "metadata": {},
   "outputs": [
    {
     "data": {
      "text/plain": [
       "(c_ulong(1073741824), c_byte(14))"
      ]
     },
     "execution_count": 17,
     "metadata": {},
     "output_type": "execute_result"
    },
    {
     "ename": "",
     "evalue": "",
     "output_type": "error",
     "traceback": [
      "\u001b[1;31mThe Kernel crashed while executing code in the current cell or a previous cell. \n",
      "\u001b[1;31mPlease review the code in the cell(s) to identify a possible cause of the failure. \n",
      "\u001b[1;31mClick <a href='https://aka.ms/vscodeJupyterKernelCrash'>here</a> for more info. \n",
      "\u001b[1;31mView Jupyter <a href='command:jupyter.viewOutput'>log</a> for further details."
     ]
    }
   ],
   "source": [
    "board.getChannelInfo()"
   ]
  },
  {
   "cell_type": "code",
   "execution_count": null,
   "id": "2260af72",
   "metadata": {},
   "outputs": [
    {
     "ename": "NameError",
     "evalue": "name 'board' is not defined",
     "output_type": "error",
     "traceback": [
      "\u001b[1;31m---------------------------------------------------------------------------\u001b[0m",
      "\u001b[1;31mNameError\u001b[0m                                 Traceback (most recent call last)",
      "Cell \u001b[1;32mIn[3], line 4\u001b[0m\n\u001b[0;32m      2\u001b[0m \u001b[38;5;66;03m# configure the PMT channels\u001b[39;00m\n\u001b[0;32m      3\u001b[0m \u001b[38;5;28;01mfor\u001b[39;00m channel \u001b[38;5;129;01min\u001b[39;00m channel_list:\n\u001b[1;32m----> 4\u001b[0m     \u001b[43mboard\u001b[49m\u001b[38;5;241m.\u001b[39minputControl(channel\u001b[38;5;241m=\u001b[39mchannel,\n\u001b[0;32m      5\u001b[0m                       coupling\u001b[38;5;241m=\u001b[39m ats\u001b[38;5;241m.\u001b[39mDC_COUPLING,\n\u001b[0;32m      6\u001b[0m                       inputRange \u001b[38;5;241m=\u001b[39m ats\u001b[38;5;241m.\u001b[39mINPUT_RANGE_PM_1_V, \n\u001b[0;32m      7\u001b[0m                       impedance \u001b[38;5;241m=\u001b[39m ats\u001b[38;5;241m.\u001b[39mIMPEDANCE_50_OHM)\n\u001b[0;32m      8\u001b[0m \u001b[38;5;66;03m# Configure the trigger\u001b[39;00m\n\u001b[0;32m      9\u001b[0m board\u001b[38;5;241m.\u001b[39msetExternalClockLevel(\u001b[38;5;241m65\u001b[39m) \u001b[38;5;66;03m# level in percent for the external clock (laser)\u001b[39;00m\n",
      "\u001b[1;31mNameError\u001b[0m: name 'board' is not defined"
     ]
    }
   ],
   "source": [
    "# ats.CHANNEL_A = 1, ats.CHANNEL_B = 2,ats.CHANNEL_C = 4,ats.CHANNEL_D = 8\n",
    "channel_list = [ats.CHANNEL_A,ats.CHANNEL_B,ats.CHANNEL_C,ats.CHANNEL_D]\n",
    "\n",
    "# configure the PMT channels\n",
    "for channel in channel_list:\n",
    "    board.inputControl(channel=channel,\n",
    "                      coupling= ats.DC_COUPLING,  #2\n",
    "                      inputRange = ats.INPUT_RANGE_PM_1_V, #10\n",
    "                      impedance = ats.IMPEDANCE_50_OHM)  #2\n",
    "    \n",
    "# Configure the trigger\n",
    "board.setExternalClockLevel(65) # level in percent for the external clock (laser)\n",
    "hsync_value = config['twophoton']['hsync_sign']  #0\n",
    "trigger_level = config['twophoton']['acquisition_trigger_level'] #160\n",
    "board.setTriggerOperation(operation = ats.TRIG_ENGINE_OP_J,  #0\n",
    "                          engine1 = ats.TRIG_ENGINE_J,  #0\n",
    "                          source1 = ats.TRIG_EXTERNAL, #2\n",
    "                          slope1 = ats.TRIGGER_SLOPE_POSITIVE + int(hsync_value), # this depends on the HSYNC\n",
    "                          level1 = int(trigger_level), # trigger level from 0 (-range) to 255 (+range)\n",
    "                          engine2 = ats.TRIG_ENGINE_K,  #1\n",
    "                          source2 = ats.TRIG_DISABLE,  #3\n",
    "                          slope2 = ats.TRIGGER_SLOPE_POSITIVE,  #1\n",
    "                          level2 = 128)  # where did this 128 come from?\n",
    "\n",
    "board.setExternalTrigger(coupling = ats.DC_COUPLING,  #2\n",
    "                        range = ats.ETR_TTL)  #2\n",
    "board.setTriggerDelay(delay_samples=0) # no delay\n",
    "board.setTriggerTimeOut(timeout_clocks = 0) # wait forever (0)\n",
    "board.abortAsyncRead()\n",
    "\n",
    "scanmode = config['twophoton']['unidirectional'] #'unidirectional'\n",
    "laser_frequency = config['twophoton']['laser_frequency'] #80000000\n",
    "resonant_frequency = config['twophoton']['resonant_frequency'] #8000\n",
    "samples_per_pixel = int(np.round(laser_frequency / resonant_frequency*4 / 10000))\n",
    "\n",
    "# configure the buffers\n",
    "max_samples_per_record,bits_per_sample = board.getChannelInfo()\n",
    "nlines = 512\n",
    "\n",
    "if scanmode in [0,'uni','unidirectional', True]:  # I added a \"True\" statement to match the config file\n",
    "    post_trigger_samples = 5000*samples_per_pixel/4 # just one line...\n",
    "    samples_per_record =  post_trigger_samples      # 10000/4 (1 sample every laser clock) samples per scan (back and forth)\n",
    "    records_per_buffer = int(nlines)\n",
    "else: # bidirectional\n",
    "    post_trigger_samples = 9000*samples_per_pixel/4\n",
    "    samples_per_record =  post_trigger_samples\n",
    "    records_per_buffer = int(nlines/2)\n",
    "\n",
    "# TODO: define the pixel_lookuptables here\n",
    "\n",
    "# allocate the buffers\n",
    "bytes_per_sample = 2;\n",
    "nchannels = 4\n",
    "nframes = 10 # continuous?\n",
    "\n",
    "samples_per_buffer = samples_per_record * records_per_buffer * nchannels\n",
    "bytes_per_buffer   = samples_per_buffer * bytes_per_sample\n",
    "\n",
    "# allocate DMA buffer\n",
    "nbuffers = 16\n",
    "buffers = [ats.DMABuffer(c_sample_type = ctypes.c_uint16,\n",
    "                         size_bytes = int(bytes_per_buffer)) for b in range(nbuffers)]\n",
    "\n",
    "board.setRecordSize(preTriggerSamples = int(0),\n",
    "                    postTriggerSamples = int(post_trigger_samples))\n",
    "\n",
    "\n",
    "channel_selection = [1,1,1,1]\n",
    "\n",
    "# configure acquisition\n",
    "chan_sel = 0\n",
    "for sel,channel in  zip(channel_selection, channel_list):\n",
    "    if sel:\n",
    "        chan_sel |=  channel        \n",
    "\n",
    "board.beforeAsyncRead(\n",
    "    channels = chan_sel,\n",
    "    transferOffset = 0,\n",
    "    samplesPerRecord = int(samples_per_record),\n",
    "    recordsPerBuffer = int(records_per_buffer),\n",
    "    recordsPerAcquisition = int(records_per_buffer*nframes),\n",
    "    flags = ats.ADMA_EXTERNAL_STARTCAPTURE | ats.ADMA_NPT | ats.ADMA_INTERLEAVE_SAMPLES)\n",
    "\n",
    "# post the buffers\n",
    "for b in buffers:\n",
    "    board.postAsyncBuffer(buffer=b.addr, bufferLength= int(bytes_per_buffer))\n",
    "\n",
    "board.startCapture()\n",
    "buffers_completed = 0\n",
    "buffer_index = np.mod(buffers_completed, nbuffers)\n",
    "# process a buffer and submit to the queue\n",
    "b = buffers[buffers_completed % nbuffers]\n",
    "try:\n",
    "    board.waitAsyncBufferComplete(buffer=b.addr, timeout_ms = int(5000))\n",
    "except Exception as err:\n",
    "    if 'Timeout' in err.args:\n",
    "        print('Timed out')\n",
    "    else:\n",
    "        raise(err)\n",
    "print(b.buffer)"
   ]
  },
  {
   "cell_type": "code",
   "execution_count": null,
   "id": "56899fb2",
   "metadata": {},
   "outputs": [],
   "source": [
    "samples_per_pixel"
   ]
  },
  {
   "cell_type": "code",
   "execution_count": null,
   "id": "85aa7851",
   "metadata": {},
   "outputs": [],
   "source": [
    "nchannels = np.sum(channel_selection)\n",
    "\n",
    "frame = np.array(b.buffer,dtype='uint16').reshape([nchannels,nlines,samples_per_pixel,-1]).sum(axis = 2)#.reshape([nchannels,-1,nlines]).astype('uint16')\n",
    "frame.shape"
   ]
  },
  {
   "cell_type": "code",
   "execution_count": null,
   "id": "c801810d",
   "metadata": {},
   "outputs": [],
   "source": [
    "%matplotlib notebook\n",
    "import pylab as plt\n",
    "plt.imshow(frame[0])"
   ]
  },
  {
   "cell_type": "code",
   "execution_count": null,
   "id": "930dbfe7",
   "metadata": {},
   "outputs": [],
   "source": [
    "sbox_set_status_message(box.usb)"
   ]
  },
  {
   "cell_type": "code",
   "execution_count": null,
   "id": "789c3b59",
   "metadata": {},
   "outputs": [],
   "source": [
    "box.scan()"
   ]
  },
  {
   "cell_type": "code",
   "execution_count": null,
   "id": "6f5704b5",
   "metadata": {},
   "outputs": [],
   "source": [
    "box.set_continuous_resonant(True)\n"
   ]
  },
  {
   "cell_type": "code",
   "execution_count": null,
   "id": "8e2578c7",
   "metadata": {},
   "outputs": [],
   "source": [
    "box.set_linescan_mode('bidi')\n"
   ]
  },
  {
   "cell_type": "code",
   "execution_count": null,
   "id": "e4c445d4",
   "metadata": {},
   "outputs": [],
   "source": [
    "from scanbox.nlw_controller import box_commands\n",
    "box.cmd_queue.put(box_commands['version'])\n"
   ]
  },
  {
   "cell_type": "code",
   "execution_count": null,
   "id": "fe0de415",
   "metadata": {},
   "outputs": [],
   "source": [
    "box.abort()"
   ]
  }
 ],
 "metadata": {
  "kernelspec": {
   "display_name": "scanbox",
   "language": "python",
   "name": "python3"
  },
  "language_info": {
   "codemirror_mode": {
    "name": "ipython",
    "version": 3
   },
   "file_extension": ".py",
   "mimetype": "text/x-python",
   "name": "python",
   "nbconvert_exporter": "python",
   "pygments_lexer": "ipython3",
   "version": "3.10.15"
  }
 },
 "nbformat": 4,
 "nbformat_minor": 5
}
