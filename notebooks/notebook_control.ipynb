{
 "cells": [
  {
   "cell_type": "code",
   "execution_count": null,
   "id": "e9135bd3",
   "metadata": {},
   "outputs": [],
   "source": [
    "from scanbox.nlw_controller import *\n",
    "from scanbox.utils import *\n",
    "config = get_config()\n",
    "\n",
    "box = ScanboxController('COM4',preferences = config['twophoton'])\n",
    "\n"
   ]
  },
  {
   "cell_type": "code",
   "execution_count": null,
   "id": "012934df",
   "metadata": {},
   "outputs": [],
   "source": [
    "box.scan()"
   ]
  },
  {
   "cell_type": "code",
   "execution_count": null,
   "id": "c3004c82",
   "metadata": {},
   "outputs": [],
   "source": [
    "box.abort()\n",
    "box.set_mirror_position(0)"
   ]
  },
  {
   "cell_type": "code",
   "execution_count": null,
   "id": "cd5046b3",
   "metadata": {},
   "outputs": [],
   "source": [
    "box.exit_flag = True\n",
    "box.usb.close()"
   ]
  },
  {
   "cell_type": "code",
   "execution_count": null,
   "id": "2a6815b9",
   "metadata": {},
   "outputs": [],
   "source": [
    "import atsapi as ats\n",
    "board = ats.Board(systemId=1, boardId=1)\n",
    "# Configure the capture clock (trigger external/laser)\n",
    "board.setCaptureClock(source = ats.FAST_EXTERNAL_CLOCK,\n",
    "                      rate = ats.SAMPLE_RATE_USER_DEF,\n",
    "                      edge = ats.CLOCK_EDGE_RISING,\n",
    "                      decimation = 0)                        "
   ]
  },
  {
   "cell_type": "code",
   "execution_count": null,
   "id": "2260af72",
   "metadata": {},
   "outputs": [],
   "source": [
    "\n",
    "channel_list = [ats.CHANNEL_A,ats.CHANNEL_B,ats.CHANNEL_C,ats.CHANNEL_D]\n",
    "# configure the PMT channels\n",
    "for channel in channel_list:\n",
    "    board.inputControl(channel=channel,\n",
    "                      coupling= ats.DC_COUPLING,\n",
    "                      inputRange = ats.INPUT_RANGE_PM_1_V, \n",
    "                      impedance = ats.IMPEDANCE_50_OHM)\n",
    "# Configure the trigger\n",
    "board.setExternalClockLevel(65) # level in percent for the external clock (laser)\n",
    "hsync_value = 0\n",
    "trigger_level = 160\n",
    "board.setTriggerOperation(operation = ats.TRIG_ENGINE_OP_J,\n",
    "                          engine1 = ats.TRIG_ENGINE_J,\n",
    "                          source1 = ats.TRIG_EXTERNAL,\n",
    "                          slope1 = ats.TRIGGER_SLOPE_POSITIVE + int(hsync_value), # this depends on the HSYNC\n",
    "                          level1 = int(trigger_level), # trigger level from 0 (-range) to 255 (+range)\n",
    "                          engine2 = ats.TRIG_ENGINE_K,\n",
    "                          source2 = ats.TRIG_DISABLE,\n",
    "                          slope2 = ats.TRIGGER_SLOPE_POSITIVE,\n",
    "                          level2 = 128)\n",
    "\n",
    "board.setExternalTrigger(coupling = ats.DC_COUPLING,\n",
    "                        range = ats.ETR_TTL)\n",
    "board.setTriggerDelay(delay_samples=0) # no delay\n",
    "board.setTriggerTimeOut(timeout_clocks = 0) # wait forever (0)\n",
    "board.abortAsyncRead()\n",
    "\n",
    "scanmode = 'unidirectional'\n",
    "laser_frequency = 80000000\n",
    "resonant_frequency = 8000\n",
    "samples_per_pixel = int(np.round(laser_frequency / resonant_frequency*4 / 10000))\n",
    "\n",
    "# configure the buffers\n",
    "max_samples_per_record,bits_per_sample = board.getChannelInfo()\n",
    "nlines = 512\n",
    "\n",
    "if scanmode in [0,'uni','unidirectional']:\n",
    "    post_trigger_samples = 5000*samples_per_pixel/4 # just one line...\n",
    "    samples_per_record =  post_trigger_samples      # 10000/4 (1 sample every laser clock) samples per scan (back and forth)\n",
    "    records_per_buffer = int(nlines)\n",
    "else: # bidirectional\n",
    "    post_trigger_samples = 9000*samples_per_pixel/4\n",
    "    samples_per_record =  post_trigger_samples\n",
    "    records_per_buffer = int(nlines/2)\n",
    "\n",
    "# TODO: define the pixel_lookuptables here\n",
    "\n",
    "# allocate the buffers\n",
    "bytes_per_sample = 2;\n",
    "nchannels = 4\n",
    "nframes = 10 # continuous?\n",
    "\n",
    "samples_per_buffer = samples_per_record * records_per_buffer * nchannels\n",
    "bytes_per_buffer   = samples_per_buffer * bytes_per_sample\n",
    "\n",
    "# allocate DMA buffer\n",
    "nbuffers = 16\n",
    "buffers = [ats.DMABuffer(c_sample_type = ctypes.c_uint16,\n",
    "                         size_bytes = int(bytes_per_buffer)) for b in range(nbuffers)]\n",
    "\n",
    "board.setRecordSize(preTriggerSamples = int(0),\n",
    "                    postTriggerSamples = int(post_trigger_samples))\n",
    "\n",
    "\n",
    "channel_selection = [1,1,1,1]\n",
    "\n",
    "# configure acquisition\n",
    "chan_sel = 0\n",
    "for sel,channel in  zip(channel_selection, channel_list):\n",
    "    if sel:\n",
    "        chan_sel |=  channel        \n",
    "\n",
    "board.beforeAsyncRead(\n",
    "    channels = chan_sel,\n",
    "    transferOffset = 0,\n",
    "    samplesPerRecord = int(samples_per_record),\n",
    "    recordsPerBuffer = int(records_per_buffer),\n",
    "    recordsPerAcquisition = int(records_per_buffer*nframes),\n",
    "    flags = ats.ADMA_EXTERNAL_STARTCAPTURE | ats.ADMA_NPT | ats.ADMA_INTERLEAVE_SAMPLES)\n",
    "\n",
    "# post the buffers\n",
    "for b in buffers:\n",
    "    board.postAsyncBuffer(buffer=b.addr, bufferLength= int(bytes_per_buffer))\n",
    "\n",
    "board.startCapture()\n",
    "buffers_completed = 0\n",
    "buffer_index = np.mod(buffers_completed, nbuffers)\n",
    "# process a buffer and submit to the queue\n",
    "b = buffers[buffers_completed % nbuffers]\n",
    "try:\n",
    "    board.waitAsyncBufferComplete(buffer=b.addr, timeout_ms = int(5000))\n",
    "except Exception as err:\n",
    "    if 'Timeout' in err.args:\n",
    "        print('Timed out')\n",
    "    else:\n",
    "        raise(err)\n",
    "print(b.buffer)"
   ]
  },
  {
   "cell_type": "code",
   "execution_count": null,
   "id": "56899fb2",
   "metadata": {},
   "outputs": [],
   "source": [
    "samples_per_pixel"
   ]
  },
  {
   "cell_type": "code",
   "execution_count": null,
   "id": "85aa7851",
   "metadata": {},
   "outputs": [],
   "source": [
    "nchannels = np.sum(channel_selection)\n",
    "\n",
    "frame = np.array(b.buffer,dtype='uint16').reshape([nchannels,nlines,samples_per_pixel,-1]).sum(axis = 2)#.reshape([nchannels,-1,nlines]).astype('uint16')\n",
    "frame.shape"
   ]
  },
  {
   "cell_type": "code",
   "execution_count": null,
   "id": "c801810d",
   "metadata": {},
   "outputs": [],
   "source": [
    "%matplotlib notebook\n",
    "import pylab as plt\n",
    "plt.imshow(frame[0])"
   ]
  },
  {
   "cell_type": "code",
   "execution_count": null,
   "id": "930dbfe7",
   "metadata": {},
   "outputs": [],
   "source": [
    "sbox_set_status_message(box.usb)"
   ]
  },
  {
   "cell_type": "code",
   "execution_count": null,
   "id": "789c3b59",
   "metadata": {},
   "outputs": [],
   "source": [
    "box.scan()"
   ]
  },
  {
   "cell_type": "code",
   "execution_count": null,
   "id": "6f5704b5",
   "metadata": {},
   "outputs": [],
   "source": [
    "box.set_continuous_resonant(True)\n"
   ]
  },
  {
   "cell_type": "code",
   "execution_count": null,
   "id": "8e2578c7",
   "metadata": {},
   "outputs": [],
   "source": [
    "box.set_linescan_mode('bidi')\n"
   ]
  },
  {
   "cell_type": "code",
   "execution_count": null,
   "id": "e4c445d4",
   "metadata": {},
   "outputs": [],
   "source": [
    "from scanbox.nlw_controller import box_commands\n",
    "box.cmd_queue.put(box_commands['version'])\n"
   ]
  },
  {
   "cell_type": "code",
   "execution_count": null,
   "id": "fe0de415",
   "metadata": {},
   "outputs": [],
   "source": [
    "box.abort()"
   ]
  }
 ],
 "metadata": {
  "kernelspec": {
   "display_name": "Python 3",
   "language": "python",
   "name": "python3"
  },
  "language_info": {
   "codemirror_mode": {
    "name": "ipython",
    "version": 3
   },
   "file_extension": ".py",
   "mimetype": "text/x-python",
   "name": "python",
   "nbconvert_exporter": "python",
   "pygments_lexer": "ipython3",
   "version": "3.8.8"
  }
 },
 "nbformat": 4,
 "nbformat_minor": 5
}
