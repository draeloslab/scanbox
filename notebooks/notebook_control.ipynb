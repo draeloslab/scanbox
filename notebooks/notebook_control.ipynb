{
 "cells": [
  {
   "cell_type": "code",
   "execution_count": 1,
   "id": "e9135bd3",
   "metadata": {},
   "outputs": [],
   "source": [
    "from scanbox.nlw_controller import *\n",
    "\n",
    "box = BoxController('COM4')\n",
    "\n"
   ]
  },
  {
   "cell_type": "code",
   "execution_count": 3,
   "id": "ee40f611",
   "metadata": {},
   "outputs": [],
   "source": [
    "\n",
    "# sbox_get_version(box.usb)\n",
    "#         print('Version',struct.unpack(self.usb.read(3),'HHH'),flush=True)\n",
    "        \n"
   ]
  },
  {
   "cell_type": "code",
   "execution_count": 9,
   "id": "aa74292e",
   "metadata": {},
   "outputs": [
    {
     "name": "stdout",
     "output_type": "stream",
     "text": [
      "(1, 12, 0)\n"
     ]
    }
   ],
   "source": [
    "print(sbox_get_version(box.usb))\n",
    "sbox_set_lcd_token(box.usb,1)\n",
    "sbox_set_optotune_active(box.usb,0)\n",
    "sbox_set_current_power_active(box.usb,0)\n",
    "sbox_set_status_message(box.usb)\n",
    "# box.usb.close()"
   ]
  },
  {
   "cell_type": "code",
   "execution_count": 39,
   "id": "cfa709e4",
   "metadata": {},
   "outputs": [],
   "source": [
    "sbox_set_status_message(box.usb)"
   ]
  },
  {
   "cell_type": "code",
   "execution_count": 9,
   "id": "ce792ab5",
   "metadata": {},
   "outputs": [],
   "source": [
    "sbox_set_status_message(box.usb)"
   ]
  },
  {
   "cell_type": "code",
   "execution_count": 16,
   "id": "f8a0fa8e",
   "metadata": {},
   "outputs": [
    {
     "data": {
      "text/plain": [
       "b''"
      ]
     },
     "execution_count": 16,
     "metadata": {},
     "output_type": "execute_result"
    }
   ],
   "source": [
    "box.usb.read()"
   ]
  },
  {
   "cell_type": "code",
   "execution_count": 2,
   "id": "6f5704b5",
   "metadata": {},
   "outputs": [
    {
     "name": "stdout",
     "output_type": "stream",
     "text": [
      "bytearray(b'4\\x00\\x00\\x00\\x00\\x00\\x00\\x00\\x01\\x00\\x00\\x00')\n"
     ]
    }
   ],
   "source": [
    "box.set_continuous_resonant(True)\n"
   ]
  },
  {
   "cell_type": "code",
   "execution_count": 3,
   "id": "8e2578c7",
   "metadata": {},
   "outputs": [
    {
     "name": "stdout",
     "output_type": "stream",
     "text": [
      "bytearray(b'5\\x00\\x00\\x00\\x00\\x00\\x00\\x00\\x01\\x00\\x00\\x00')\n"
     ]
    }
   ],
   "source": [
    "box.set_linescan_mode('bidi')\n"
   ]
  },
  {
   "cell_type": "code",
   "execution_count": 5,
   "id": "e4c445d4",
   "metadata": {},
   "outputs": [
    {
     "name": "stdout",
     "output_type": "stream",
     "text": [
      "bytearray(b'x\\x00\\x00\\x00\\xaa\\x00\\x00\\x00U\\x00\\x00\\x00')\n",
      "Has read.\n",
      "b'\\x01\\x0c\\x00'\n"
     ]
    }
   ],
   "source": [
    "from scanbox.nlw_controller import box_commands\n",
    "box.cmd_queue.put(box_commands['version'])\n"
   ]
  },
  {
   "cell_type": "code",
   "execution_count": 2,
   "id": "aea572b3",
   "metadata": {},
   "outputs": [
    {
     "data": {
      "text/plain": [
       "<BoxController(Thread-6, stopped 8432)>"
      ]
     },
     "execution_count": 2,
     "metadata": {},
     "output_type": "execute_result"
    }
   ],
   "source": []
  }
 ],
 "metadata": {
  "kernelspec": {
   "display_name": "Python 3",
   "language": "python",
   "name": "python3"
  },
  "language_info": {
   "codemirror_mode": {
    "name": "ipython",
    "version": 3
   },
   "file_extension": ".py",
   "mimetype": "text/x-python",
   "name": "python",
   "nbconvert_exporter": "python",
   "pygments_lexer": "ipython3",
   "version": "3.8.8"
  }
 },
 "nbformat": 4,
 "nbformat_minor": 5
}
