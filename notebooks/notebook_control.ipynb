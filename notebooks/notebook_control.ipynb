{
 "cells": [
  {
   "cell_type": "code",
   "execution_count": null,
   "id": "e9135bd3",
   "metadata": {},
   "outputs": [
    {
     "name": "stdout",
     "output_type": "stream",
     "text": [
      "[24-11-04 13:31:25] Could not connect to box on COM4\n",
      "could not open port 'COM4': FileNotFoundError(2, 'The system cannot find the file specified.', None, 2)\n"
     ]
    },
    {
     "ename": "OSError",
     "evalue": "Could not connect to Neurolabware Control Box",
     "output_type": "error",
     "traceback": [
      "\u001b[1;31m---------------------------------------------------------------------------\u001b[0m",
      "\u001b[1;31mSerialException\u001b[0m                           Traceback (most recent call last)",
      "File \u001b[1;32mc:\\users\\paulawu\\codes\\scanbox\\scanbox\\nlw_controller.py:45\u001b[0m, in \u001b[0;36mScanboxController.connect_usb\u001b[1;34m(self)\u001b[0m\n\u001b[0;32m     44\u001b[0m \u001b[38;5;28;01mtry\u001b[39;00m:\n\u001b[1;32m---> 45\u001b[0m     \u001b[38;5;28mself\u001b[39m\u001b[38;5;241m.\u001b[39musb \u001b[38;5;241m=\u001b[39m \u001b[43mserial\u001b[49m\u001b[38;5;241;43m.\u001b[39;49m\u001b[43mSerial\u001b[49m\u001b[43m(\u001b[49m\u001b[43mport\u001b[49m\u001b[43m \u001b[49m\u001b[38;5;241;43m=\u001b[39;49m\u001b[43m \u001b[49m\u001b[38;5;28;43mself\u001b[39;49m\u001b[38;5;241;43m.\u001b[39;49m\u001b[43mmaster_port\u001b[49m\u001b[43m,\u001b[49m\n\u001b[0;32m     46\u001b[0m \u001b[43m                             \u001b[49m\u001b[43mbaudrate\u001b[49m\u001b[43m \u001b[49m\u001b[38;5;241;43m=\u001b[39;49m\u001b[43m \u001b[49m\u001b[38;5;28;43mself\u001b[39;49m\u001b[38;5;241;43m.\u001b[39;49m\u001b[43mbaudrate\u001b[49m\u001b[43m,\u001b[49m\n\u001b[0;32m     47\u001b[0m \u001b[43m                             \u001b[49m\u001b[43mxonxoff\u001b[49m\u001b[43m \u001b[49m\u001b[38;5;241;43m=\u001b[39;49m\u001b[43m \u001b[49m\u001b[38;5;28;43;01mTrue\u001b[39;49;00m\u001b[43m,\u001b[49m\n\u001b[0;32m     48\u001b[0m \u001b[43m                             \u001b[49m\u001b[43mtimeout\u001b[49m\u001b[43m \u001b[49m\u001b[38;5;241;43m=\u001b[39;49m\u001b[43m \u001b[49m\u001b[38;5;28;43mself\u001b[39;49m\u001b[38;5;241;43m.\u001b[39;49m\u001b[43mtimeout\u001b[49m\u001b[43m)\u001b[49m\n\u001b[0;32m     49\u001b[0m \u001b[38;5;28;01mexcept\u001b[39;00m \u001b[38;5;167;01mException\u001b[39;00m \u001b[38;5;28;01mas\u001b[39;00m err:\n",
      "File \u001b[1;32mc:\\Users\\paulawu\\AppData\\Local\\miniconda3\\envs\\scanbox\\lib\\site-packages\\serial\\serialwin32.py:33\u001b[0m, in \u001b[0;36mSerial.__init__\u001b[1;34m(self, *args, **kwargs)\u001b[0m\n\u001b[0;32m     32\u001b[0m \u001b[38;5;28mself\u001b[39m\u001b[38;5;241m.\u001b[39m_overlapped_write \u001b[38;5;241m=\u001b[39m \u001b[38;5;28;01mNone\u001b[39;00m\n\u001b[1;32m---> 33\u001b[0m \u001b[38;5;28msuper\u001b[39m(Serial, \u001b[38;5;28mself\u001b[39m)\u001b[38;5;241m.\u001b[39m\u001b[38;5;21m__init__\u001b[39m(\u001b[38;5;241m*\u001b[39margs, \u001b[38;5;241m*\u001b[39m\u001b[38;5;241m*\u001b[39mkwargs)\n",
      "File \u001b[1;32mc:\\Users\\paulawu\\AppData\\Local\\miniconda3\\envs\\scanbox\\lib\\site-packages\\serial\\serialutil.py:244\u001b[0m, in \u001b[0;36mSerialBase.__init__\u001b[1;34m(self, port, baudrate, bytesize, parity, stopbits, timeout, xonxoff, rtscts, write_timeout, dsrdtr, inter_byte_timeout, exclusive, **kwargs)\u001b[0m\n\u001b[0;32m    243\u001b[0m \u001b[38;5;28;01mif\u001b[39;00m port \u001b[38;5;129;01mis\u001b[39;00m \u001b[38;5;129;01mnot\u001b[39;00m \u001b[38;5;28;01mNone\u001b[39;00m:\n\u001b[1;32m--> 244\u001b[0m     \u001b[38;5;28;43mself\u001b[39;49m\u001b[38;5;241;43m.\u001b[39;49m\u001b[43mopen\u001b[49m\u001b[43m(\u001b[49m\u001b[43m)\u001b[49m\n",
      "File \u001b[1;32mc:\\Users\\paulawu\\AppData\\Local\\miniconda3\\envs\\scanbox\\lib\\site-packages\\serial\\serialwin32.py:64\u001b[0m, in \u001b[0;36mSerial.open\u001b[1;34m(self)\u001b[0m\n\u001b[0;32m     63\u001b[0m     \u001b[38;5;28mself\u001b[39m\u001b[38;5;241m.\u001b[39m_port_handle \u001b[38;5;241m=\u001b[39m \u001b[38;5;28;01mNone\u001b[39;00m    \u001b[38;5;66;03m# 'cause __del__ is called anyway\u001b[39;00m\n\u001b[1;32m---> 64\u001b[0m     \u001b[38;5;28;01mraise\u001b[39;00m SerialException(\u001b[38;5;124m\"\u001b[39m\u001b[38;5;124mcould not open port \u001b[39m\u001b[38;5;132;01m{!r}\u001b[39;00m\u001b[38;5;124m: \u001b[39m\u001b[38;5;132;01m{!r}\u001b[39;00m\u001b[38;5;124m\"\u001b[39m\u001b[38;5;241m.\u001b[39mformat(\u001b[38;5;28mself\u001b[39m\u001b[38;5;241m.\u001b[39mportstr, ctypes\u001b[38;5;241m.\u001b[39mWinError()))\n\u001b[0;32m     66\u001b[0m \u001b[38;5;28;01mtry\u001b[39;00m:\n",
      "\u001b[1;31mSerialException\u001b[0m: could not open port 'COM4': FileNotFoundError(2, 'The system cannot find the file specified.', None, 2)",
      "\nDuring handling of the above exception, another exception occurred:\n",
      "\u001b[1;31mOSError\u001b[0m                                   Traceback (most recent call last)",
      "Cell \u001b[1;32mIn[1], line 5\u001b[0m\n\u001b[0;32m      2\u001b[0m \u001b[38;5;28;01mfrom\u001b[39;00m \u001b[38;5;21;01mscanbox\u001b[39;00m\u001b[38;5;21;01m.\u001b[39;00m\u001b[38;5;21;01mutils\u001b[39;00m \u001b[38;5;28;01mimport\u001b[39;00m \u001b[38;5;241m*\u001b[39m\n\u001b[0;32m      3\u001b[0m config \u001b[38;5;241m=\u001b[39m get_config()\n\u001b[1;32m----> 5\u001b[0m box \u001b[38;5;241m=\u001b[39m \u001b[43mScanboxController\u001b[49m\u001b[43m(\u001b[49m\u001b[38;5;124;43m'\u001b[39;49m\u001b[38;5;124;43mCOM4\u001b[39;49m\u001b[38;5;124;43m'\u001b[39;49m\u001b[43m,\u001b[49m\u001b[43mpreferences\u001b[49m\u001b[43m \u001b[49m\u001b[38;5;241;43m=\u001b[39;49m\u001b[43m \u001b[49m\u001b[43mconfig\u001b[49m\u001b[43m[\u001b[49m\u001b[38;5;124;43m'\u001b[39;49m\u001b[38;5;124;43mtwophoton\u001b[39;49m\u001b[38;5;124;43m'\u001b[39;49m\u001b[43m]\u001b[49m\u001b[43m)\u001b[49m\n",
      "File \u001b[1;32mc:\\users\\paulawu\\codes\\scanbox\\scanbox\\nlw_controller.py:23\u001b[0m, in \u001b[0;36mScanboxController.__init__\u001b[1;34m(self, master_port, slave_port, baudrate, log_queue, timeout, preferences)\u001b[0m\n\u001b[0;32m     21\u001b[0m \u001b[38;5;28mself\u001b[39m\u001b[38;5;241m.\u001b[39mtimeout \u001b[38;5;241m=\u001b[39m timeout\n\u001b[0;32m     22\u001b[0m \u001b[38;5;28mself\u001b[39m\u001b[38;5;241m.\u001b[39musb \u001b[38;5;241m=\u001b[39m \u001b[38;5;28;01mNone\u001b[39;00m\n\u001b[1;32m---> 23\u001b[0m \u001b[38;5;28;43mself\u001b[39;49m\u001b[38;5;241;43m.\u001b[39;49m\u001b[43mconnect_usb\u001b[49m\u001b[43m(\u001b[49m\u001b[43m)\u001b[49m\n\u001b[0;32m     24\u001b[0m \u001b[38;5;28mself\u001b[39m\u001b[38;5;241m.\u001b[39mcmd_queue \u001b[38;5;241m=\u001b[39m Queue()    \u001b[38;5;66;03m# use a queue to manage commands\u001b[39;00m\n\u001b[0;32m     25\u001b[0m \u001b[38;5;28mself\u001b[39m\u001b[38;5;241m.\u001b[39mlog_queue \u001b[38;5;241m=\u001b[39m log_queue  \u001b[38;5;66;03m# this is only needed when saving\u001b[39;00m\n",
      "File \u001b[1;32mc:\\users\\paulawu\\codes\\scanbox\\scanbox\\nlw_controller.py:52\u001b[0m, in \u001b[0;36mScanboxController.connect_usb\u001b[1;34m(self)\u001b[0m\n\u001b[0;32m     50\u001b[0m     display(\u001b[38;5;124m'\u001b[39m\u001b[38;5;124mCould not connect to box on \u001b[39m\u001b[38;5;132;01m{0}\u001b[39;00m\u001b[38;5;124m'\u001b[39m\u001b[38;5;241m.\u001b[39mformat(\u001b[38;5;28mself\u001b[39m\u001b[38;5;241m.\u001b[39mmaster_port))\n\u001b[0;32m     51\u001b[0m     \u001b[38;5;28mprint\u001b[39m(err)\n\u001b[1;32m---> 52\u001b[0m     \u001b[38;5;28;01mraise\u001b[39;00m(\u001b[38;5;167;01mOSError\u001b[39;00m(\u001b[38;5;124m'\u001b[39m\u001b[38;5;124mCould not connect to Neurolabware Control Box\u001b[39m\u001b[38;5;124m'\u001b[39m))\n\u001b[0;32m     53\u001b[0m \u001b[38;5;28mself\u001b[39m\u001b[38;5;241m.\u001b[39musb\u001b[38;5;241m.\u001b[39mreset_output_buffer()\n\u001b[0;32m     54\u001b[0m \u001b[38;5;28mself\u001b[39m\u001b[38;5;241m.\u001b[39musb\u001b[38;5;241m.\u001b[39mreset_input_buffer()\n",
      "\u001b[1;31mOSError\u001b[0m: Could not connect to Neurolabware Control Box"
     ]
    }
   ],
   "source": [
    "from scanbox.nlw_controller import *\n",
    "from scanbox.utils import *\n",
    "config = get_config()\n",
    "\n",
    "box = ScanboxController('COM4',preferences = config['twophoton'])"
   ]
  },
  {
   "cell_type": "code",
   "execution_count": 15,
   "id": "012934df",
   "metadata": {},
   "outputs": [
    {
     "ename": "NameError",
     "evalue": "name 'box' is not defined",
     "output_type": "error",
     "traceback": [
      "\u001b[1;31m---------------------------------------------------------------------------\u001b[0m",
      "\u001b[1;31mNameError\u001b[0m                                 Traceback (most recent call last)",
      "Cell \u001b[1;32mIn[15], line 1\u001b[0m\n\u001b[1;32m----> 1\u001b[0m \u001b[43mbox\u001b[49m\u001b[38;5;241m.\u001b[39mscan()\n",
      "\u001b[1;31mNameError\u001b[0m: name 'box' is not defined"
     ]
    }
   ],
   "source": [
    "box.scan()"
   ]
  },
  {
   "cell_type": "code",
   "execution_count": null,
   "id": "c3004c82",
   "metadata": {},
   "outputs": [],
   "source": [
    "box.abort()\n",
    "box.set_mirror_position(0)"
   ]
  },
  {
   "cell_type": "code",
   "execution_count": null,
   "id": "cd5046b3",
   "metadata": {},
   "outputs": [],
   "source": [
    "box.exit_flag = True\n",
    "box.usb.close()"
   ]
  },
  {
   "cell_type": "code",
   "execution_count": null,
   "id": "2a6815b9",
   "metadata": {},
   "outputs": [],
   "source": [
    "import atsapi as ats\n",
    "board = ats.Board(systemId=1, boardId=1)\n",
    "# Configure the capture clock (trigger external/laser)\n",
    "board.setCaptureClock(source = ats.FAST_EXTERNAL_CLOCK,\n",
    "                      rate = ats.SAMPLE_RATE_USER_DEF,\n",
    "                      edge = ats.CLOCK_EDGE_RISING,\n",
    "                      decimation = 0)                        "
   ]
  },
  {
   "cell_type": "code",
   "execution_count": null,
   "id": "2260af72",
   "metadata": {},
   "outputs": [],
   "source": [
    "\n",
    "channel_list = [ats.CHANNEL_A,ats.CHANNEL_B,ats.CHANNEL_C,ats.CHANNEL_D]\n",
    "# configure the PMT channels\n",
    "for channel in channel_list:\n",
    "    board.inputControl(channel=channel,\n",
    "                      coupling= ats.DC_COUPLING,\n",
    "                      inputRange = ats.INPUT_RANGE_PM_1_V, \n",
    "                      impedance = ats.IMPEDANCE_50_OHM)\n",
    "# Configure the trigger\n",
    "board.setExternalClockLevel(65) # level in percent for the external clock (laser)\n",
    "hsync_value = 0\n",
    "trigger_level = 160\n",
    "board.setTriggerOperation(operation = ats.TRIG_ENGINE_OP_J,\n",
    "                          engine1 = ats.TRIG_ENGINE_J,\n",
    "                          source1 = ats.TRIG_EXTERNAL,\n",
    "                          slope1 = ats.TRIGGER_SLOPE_POSITIVE + int(hsync_value), # this depends on the HSYNC\n",
    "                          level1 = int(trigger_level), # trigger level from 0 (-range) to 255 (+range)\n",
    "                          engine2 = ats.TRIG_ENGINE_K,\n",
    "                          source2 = ats.TRIG_DISABLE,\n",
    "                          slope2 = ats.TRIGGER_SLOPE_POSITIVE,\n",
    "                          level2 = 128)\n",
    "\n",
    "board.setExternalTrigger(coupling = ats.DC_COUPLING,\n",
    "                        range = ats.ETR_TTL)\n",
    "board.setTriggerDelay(delay_samples=0) # no delay\n",
    "board.setTriggerTimeOut(timeout_clocks = 0) # wait forever (0)\n",
    "board.abortAsyncRead()\n",
    "\n",
    "scanmode = 'unidirectional'\n",
    "laser_frequency = 80000000\n",
    "resonant_frequency = 8000\n",
    "samples_per_pixel = int(np.round(laser_frequency / resonant_frequency*4 / 10000))\n",
    "\n",
    "# configure the buffers\n",
    "max_samples_per_record,bits_per_sample = board.getChannelInfo()\n",
    "nlines = 512\n",
    "\n",
    "if scanmode in [0,'uni','unidirectional']:\n",
    "    post_trigger_samples = 5000*samples_per_pixel/4 # just one line...\n",
    "    samples_per_record =  post_trigger_samples      # 10000/4 (1 sample every laser clock) samples per scan (back and forth)\n",
    "    records_per_buffer = int(nlines)\n",
    "else: # bidirectional\n",
    "    post_trigger_samples = 9000*samples_per_pixel/4\n",
    "    samples_per_record =  post_trigger_samples\n",
    "    records_per_buffer = int(nlines/2)\n",
    "\n",
    "# TODO: define the pixel_lookuptables here\n",
    "\n",
    "# allocate the buffers\n",
    "bytes_per_sample = 2;\n",
    "nchannels = 4\n",
    "nframes = 10 # continuous?\n",
    "\n",
    "samples_per_buffer = samples_per_record * records_per_buffer * nchannels\n",
    "bytes_per_buffer   = samples_per_buffer * bytes_per_sample\n",
    "\n",
    "# allocate DMA buffer\n",
    "nbuffers = 16\n",
    "buffers = [ats.DMABuffer(c_sample_type = ctypes.c_uint16,\n",
    "                         size_bytes = int(bytes_per_buffer)) for b in range(nbuffers)]\n",
    "\n",
    "board.setRecordSize(preTriggerSamples = int(0),\n",
    "                    postTriggerSamples = int(post_trigger_samples))\n",
    "\n",
    "\n",
    "channel_selection = [1,1,1,1]\n",
    "\n",
    "# configure acquisition\n",
    "chan_sel = 0\n",
    "for sel,channel in  zip(channel_selection, channel_list):\n",
    "    if sel:\n",
    "        chan_sel |=  channel        \n",
    "\n",
    "board.beforeAsyncRead(\n",
    "    channels = chan_sel,\n",
    "    transferOffset = 0,\n",
    "    samplesPerRecord = int(samples_per_record),\n",
    "    recordsPerBuffer = int(records_per_buffer),\n",
    "    recordsPerAcquisition = int(records_per_buffer*nframes),\n",
    "    flags = ats.ADMA_EXTERNAL_STARTCAPTURE | ats.ADMA_NPT | ats.ADMA_INTERLEAVE_SAMPLES)\n",
    "\n",
    "# post the buffers\n",
    "for b in buffers:\n",
    "    board.postAsyncBuffer(buffer=b.addr, bufferLength= int(bytes_per_buffer))\n",
    "\n",
    "board.startCapture()\n",
    "buffers_completed = 0\n",
    "buffer_index = np.mod(buffers_completed, nbuffers)\n",
    "# process a buffer and submit to the queue\n",
    "b = buffers[buffers_completed % nbuffers]\n",
    "try:\n",
    "    board.waitAsyncBufferComplete(buffer=b.addr, timeout_ms = int(5000))\n",
    "except Exception as err:\n",
    "    if 'Timeout' in err.args:\n",
    "        print('Timed out')\n",
    "    else:\n",
    "        raise(err)\n",
    "print(b.buffer)"
   ]
  },
  {
   "cell_type": "code",
   "execution_count": null,
   "id": "56899fb2",
   "metadata": {},
   "outputs": [],
   "source": [
    "samples_per_pixel"
   ]
  },
  {
   "cell_type": "code",
   "execution_count": null,
   "id": "85aa7851",
   "metadata": {},
   "outputs": [],
   "source": [
    "nchannels = np.sum(channel_selection)\n",
    "\n",
    "frame = np.array(b.buffer,dtype='uint16').reshape([nchannels,nlines,samples_per_pixel,-1]).sum(axis = 2)#.reshape([nchannels,-1,nlines]).astype('uint16')\n",
    "frame.shape"
   ]
  },
  {
   "cell_type": "code",
   "execution_count": null,
   "id": "c801810d",
   "metadata": {},
   "outputs": [],
   "source": [
    "%matplotlib notebook\n",
    "import pylab as plt\n",
    "plt.imshow(frame[0])"
   ]
  },
  {
   "cell_type": "code",
   "execution_count": null,
   "id": "930dbfe7",
   "metadata": {},
   "outputs": [],
   "source": [
    "sbox_set_status_message(box.usb)"
   ]
  },
  {
   "cell_type": "code",
   "execution_count": null,
   "id": "789c3b59",
   "metadata": {},
   "outputs": [],
   "source": [
    "box.scan()"
   ]
  },
  {
   "cell_type": "code",
   "execution_count": null,
   "id": "6f5704b5",
   "metadata": {},
   "outputs": [],
   "source": [
    "box.set_continuous_resonant(True)\n"
   ]
  },
  {
   "cell_type": "code",
   "execution_count": null,
   "id": "8e2578c7",
   "metadata": {},
   "outputs": [],
   "source": [
    "box.set_linescan_mode('bidi')\n"
   ]
  },
  {
   "cell_type": "code",
   "execution_count": null,
   "id": "e4c445d4",
   "metadata": {},
   "outputs": [],
   "source": [
    "from scanbox.nlw_controller import box_commands\n",
    "box.cmd_queue.put(box_commands['version'])\n"
   ]
  },
  {
   "cell_type": "code",
   "execution_count": null,
   "id": "fe0de415",
   "metadata": {},
   "outputs": [],
   "source": [
    "box.abort()"
   ]
  }
 ],
 "metadata": {
  "kernelspec": {
   "display_name": "scanbox",
   "language": "python",
   "name": "python3"
  },
  "language_info": {
   "codemirror_mode": {
    "name": "ipython",
    "version": 3
   },
   "file_extension": ".py",
   "mimetype": "text/x-python",
   "name": "python",
   "nbconvert_exporter": "python",
   "pygments_lexer": "ipython3",
   "version": "3.10.15"
  }
 },
 "nbformat": 4,
 "nbformat_minor": 5
}
