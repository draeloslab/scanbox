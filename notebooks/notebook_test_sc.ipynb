{
 "cells": [
  {
   "cell_type": "code",
   "execution_count": 1,
   "metadata": {},
   "outputs": [
    {
     "name": "stderr",
     "output_type": "stream",
     "text": [
      "c:\\users\\paulawu\\codes\\scanbox\\scanbox\\nlw_controller.py:309: DeprecationWarning: NumPy will stop allowing conversion of out-of-bound Python integers to integer arrays.  The conversion of -1 to uint16 will fail in the future.\n",
      "For the old behavior, usually:\n",
      "    np.array(value).astype(dtype)\n",
      "will give the desired result (the cast overflows).\n",
      "  self.write(struct.pack('!BH', 1, np.uint16(nframes)))\n",
      ".\n",
      "----------------------------------------------------------------------\n",
      "Ran 1 test in 0.028s\n",
      "\n",
      "OK\n"
     ]
    },
    {
     "name": "stdout",
     "output_type": "stream",
     "text": [
      "Saving default config to: C:\\Users\\paulawu\\codes\\scanbox\\default\\config.yaml \n",
      "[Scanbox] Master version 1.2.3\n",
      "[Scanbox] Setting lcd token: 1\n",
      "[Scanbox] Enabled the master-slave line drive.\n",
      "[Scanbox] Disabled the tunable lens (fast-Z).\n",
      "[Scanbox] Disabled current power\n",
      "[Scanbox] PMT 0 gain: 0\n",
      "[Scanbox] PMT 1 gain: 0\n",
      "[Scanbox] PMT 2 gain: 0\n",
      "[Scanbox] PMT 3 gain: 0\n",
      "[Scanbox] Number of lines: 512\n",
      "[Scanbox] Number of frames: -1\n",
      "[Scanbox] Magnification: 0\n",
      "[Scanbox] Set interrupt mask to: 3.\n",
      "[Scanbox] Setting galvo dv per line to: 64.\n",
      "[Scanbox] Setting galvo (y) gains to: [1.0, 1.1892, 1.4142, 1.6818, 2.0, 2.3784, 2.8284, 3.3636, 4.0, 4.7568, 5.6569, 6.7272, 8.0].\n",
      "[Scanbox] Setting resonant (x) gains to: [1.0, 1.1892, 1.4142, 1.6818, 2.0, 2.3784, 2.8284, 3.3636, 4.0, 4.7568, 5.6569, 6.7272, 8.0].\n",
      "[Scanbox] Set the pockels range: dac 1 - pga 2.\n",
      "[Scanbox] Reset the pockels lookup table.\n",
      "[Scanbox] Set the sign of the horizontal axis (normal).\n",
      "[Scanbox] Disabled the external trigger.\n",
      "[Scanbox] Disabled the continuous resonant mode\n",
      "[Scanbox] Set warmup delay to 50.\n",
      "[Scanbox] Mirror position 1.\n",
      "[Scanbox] Pockels set: 0 0.\n",
      "[Scanbox] Deadband period: 1500 .\n",
      "[Scanbox] Deadband blanking: left - 0 right 0 .\n",
      "[Scanbox] Scanning mode: unidirectional\n",
      "[Scanbox] Disabled the galvo \"resonant\" mode.\n",
      "[Scanbox] Disabled the galvo.\n",
      "[Scanbox] Disabled the onephoton camera ttl for the behavior cameras\n",
      "b'Hello, Scanbox!'\n",
      "[Scanbox] Started scanning.\n",
      "[Scanbox] Stopped scanning.\n",
      "[Scanbox] Mirror position 0.\n"
     ]
    },
    {
     "data": {
      "text/plain": [
       "<unittest.main.TestProgram at 0x203b32b0fa0>"
      ]
     },
     "execution_count": 1,
     "metadata": {},
     "output_type": "execute_result"
    }
   ],
   "source": [
    "import unittest\n",
    "from unittest.mock import patch, MagicMock\n",
    "from scanbox.nlw_controller import ScanboxController\n",
    "from scanbox.utils import get_config\n",
    "\n",
    "class TestScanboxController(unittest.TestCase):\n",
    "    def test_connect_usb(self):\n",
    "        # patch replace serial.serial with a mock object\n",
    "        with patch('serial.Serial') as mock_serial:\n",
    "            # Create a mock instance and set attributes\n",
    "            mock_serial_instance = mock_serial.return_value\n",
    "            mock_serial_instance.port = 'COM4'\n",
    "            mock_serial_instance.baudrate = 57600\n",
    "            mock_serial_instance.read.side_effect = [\n",
    "                b'\\x01\\x02\\x03',  # 3 bytes for get_version\n",
    "                b'Hello, Scanbox!'  # For other reads\n",
    "            ]\n",
    "            mock_serial_instance.write.return_value = None\n",
    "\n",
    "            # initialize ScanboxController\n",
    "            config = get_config()\n",
    "            box = ScanboxController('COM4', preferences=config['twophoton'])  # connect_usb() connects to microscope\n",
    "            \n",
    "            # Check if the USB attribute was set correctly by connect_usb\n",
    "            self.assertIsNotNone(box.usb)  # Check that usb is initialized\n",
    "            self.assertEqual(box.usb.port, 'COM4')  # Mocked port\n",
    "            self.assertEqual(box.usb.baudrate, 57600)  # Mocked baudrate\n",
    "            \n",
    "            # Simulate a write command and check if it was called at least once\n",
    "            box.write(b'Test Command')\n",
    "            mock_serial_instance.write.assert_any_call(b'Test Command')\n",
    "            \n",
    "            # Perform a mock read and print output to simulate data exchange\n",
    "            data = box.usb.read(13)\n",
    "            print(data) \n",
    "            self.assertEqual(data, b'Hello, Scanbox!')\n",
    "            # print(box)\n",
    "            box.scan()\n",
    "            box.abort()\n",
    "            box.set_mirror_position(0)  # what does this mean?\n",
    "            box.exit_flag = True\n",
    "            box.usb.close()\n",
    "\n",
    "# Run the test without parsing Jupyter's arguments\n",
    "unittest.main(argv=[''], exit=False)"
   ]
  },
  {
   "cell_type": "code",
   "execution_count": 1,
   "metadata": {},
   "outputs": [],
   "source": [
    "import os\n",
    "os.getcwd()\n",
    "os.chdir('../scanbox')"
   ]
  },
  {
   "cell_type": "code",
   "execution_count": 2,
   "metadata": {},
   "outputs": [
    {
     "name": "stdout",
     "output_type": "stream",
     "text": [
      "Saving default config to: C:\\Users\\paulawu\\codes\\scanbox\\default\\config.yaml \n"
     ]
    },
    {
     "ename": "",
     "evalue": "",
     "output_type": "error",
     "traceback": [
      "\u001b[1;31mThe Kernel crashed while executing code in the current cell or a previous cell. \n",
      "\u001b[1;31mPlease review the code in the cell(s) to identify a possible cause of the failure. \n",
      "\u001b[1;31mClick <a href='https://aka.ms/vscodeJupyterKernelCrash'>here</a> for more info. \n",
      "\u001b[1;31mView Jupyter <a href='command:jupyter.viewOutput'>log</a> for further details."
     ]
    }
   ],
   "source": [
    "# are we using basler camera?\n",
    "%run gui.py"
   ]
  },
  {
   "cell_type": "code",
   "execution_count": 21,
   "metadata": {},
   "outputs": [],
   "source": [
    "from unittest.mock import MagicMock\n",
    "import labcams.cams as cams\n",
    "\n",
    "# Mock BaslerCam\n",
    "cams.BaslerCam = MagicMock()\n"
   ]
  }
 ],
 "metadata": {
  "kernelspec": {
   "display_name": "scanbox",
   "language": "python",
   "name": "python3"
  },
  "language_info": {
   "codemirror_mode": {
    "name": "ipython",
    "version": 3
   },
   "file_extension": ".py",
   "mimetype": "text/x-python",
   "name": "python",
   "nbconvert_exporter": "python",
   "pygments_lexer": "ipython3",
   "version": "3.10.15"
  }
 },
 "nbformat": 4,
 "nbformat_minor": 2
}
